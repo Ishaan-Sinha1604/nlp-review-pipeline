{
 "cells": [
  {
   "cell_type": "markdown",
   "id": "349bab13",
   "metadata": {},
   "source": [
    "# Amazon Review Usefulness Classifier\n",
    "\n",
    "This notebook builds a complete machine learning pipeline to predict whether a review is useful based on its content and metadata. It includes:\n",
    "- Data preprocessing (text, categorical, numeric)\n",
    "- Feature engineering and cleaning\n",
    "- NLP pipeline with TF-IDF and lemmatization\n",
    "- Model training with Logistic Regression\n",
    "- Explainability via feature importance\n",
    "- Comparison with Random Forest\n"
   ]
  },
  {
   "cell_type": "markdown",
   "id": "ab8328d5",
   "metadata": {},
   "source": [
    "## Step 1: Setup the Environment"
   ]
  },
  {
   "cell_type": "code",
   "execution_count": 1,
   "id": "e5f15721",
   "metadata": {},
   "outputs": [
    {
     "name": "stderr",
     "output_type": "stream",
     "text": [
      "[nltk_data] Downloading package punkt_tab to\n",
      "[nltk_data]     C:\\Users\\ishaa/nltk_data...\n",
      "[nltk_data]   Package punkt_tab is already up-to-date!\n",
      "[nltk_data] Downloading package punkt to C:\\Users\\ishaa/nltk_data...\n",
      "[nltk_data]   Package punkt is already up-to-date!\n",
      "[nltk_data] Downloading package wordnet to C:\\Users\\ishaa/nltk_data...\n",
      "[nltk_data]   Package wordnet is already up-to-date!\n",
      "[nltk_data] Downloading package stopwords to\n",
      "[nltk_data]     C:\\Users\\ishaa/nltk_data...\n",
      "[nltk_data]   Package stopwords is already up-to-date!\n"
     ]
    }
   ],
   "source": [
    "import pandas as pd\n",
    "import numpy as np\n",
    "import matplotlib.pyplot as plt\n",
    "import seaborn as sns\n",
    "\n",
    "from datetime import datetime\n",
    "from sklearn.model_selection import train_test_split\n",
    "from sklearn.feature_extraction.text import TfidfVectorizer\n",
    "from sklearn.preprocessing import OneHotEncoder\n",
    "from sklearn.linear_model import LogisticRegression\n",
    "from sklearn.ensemble import RandomForestClassifier\n",
    "from sklearn.compose import ColumnTransformer\n",
    "from sklearn.pipeline import Pipeline\n",
    "from sklearn.pipeline import make_pipeline\n",
    "\n",
    "from sklearn.metrics import (\n",
    "    classification_report,\n",
    "    roc_auc_score,\n",
    "    confusion_matrix,\n",
    "    accuracy_score,\n",
    "    precision_score,\n",
    "    recall_score,\n",
    "    f1_score,\n",
    ")\n",
    "\n",
    "import nltk\n",
    "import re\n",
    "from nltk.corpus import stopwords\n",
    "from nltk.stem import WordNetLemmatizer\n",
    "\n",
    "# Ensure punkt_tab is downloaded\n",
    "nltk.download(\"punkt_tab\")\n",
    "nltk.download(\"punkt\")\n",
    "nltk.download(\"wordnet\")\n",
    "nltk.download(\"stopwords\")\n",
    "\n",
    "\n",
    "import joblib\n",
    "\n",
    "import mlflow\n",
    "import mlflow.sklearn\n",
    "mlflow.set_tracking_uri(\"../mlruns\")\n",
    "\n",
    "import warnings\n",
    "warnings.filterwarnings('ignore')"
   ]
  },
  {
   "cell_type": "markdown",
   "id": "fcfc51f7",
   "metadata": {},
   "source": [
    "## 📥 Step 2: Load and Clean the Data\n",
    "\n",
    "We start by loading the dataset and applying basic cleaning operations:\n",
    "- Remove duplicate reviewer-product pairs\n",
    "- Parse dates and fill missing values\n",
    "- Create combined review text\n",
    "- Extract length features and days since review\n",
    "- Drop rows with missing labels"
   ]
  },
  {
   "cell_type": "code",
   "execution_count": 2,
   "id": "99810146",
   "metadata": {},
   "outputs": [
    {
     "data": {
      "text/html": [
       "<div>\n",
       "<style scoped>\n",
       "    .dataframe tbody tr th:only-of-type {\n",
       "        vertical-align: middle;\n",
       "    }\n",
       "\n",
       "    .dataframe tbody tr th {\n",
       "        vertical-align: top;\n",
       "    }\n",
       "\n",
       "    .dataframe thead th {\n",
       "        text-align: right;\n",
       "    }\n",
       "</style>\n",
       "<table border=\"1\" class=\"dataframe\">\n",
       "  <thead>\n",
       "    <tr style=\"text-align: right;\">\n",
       "      <th></th>\n",
       "      <th>reviewID</th>\n",
       "      <th>overall</th>\n",
       "      <th>verified</th>\n",
       "      <th>reviewTime</th>\n",
       "      <th>reviewerID</th>\n",
       "      <th>asin</th>\n",
       "      <th>reviewerName</th>\n",
       "      <th>reviewText</th>\n",
       "      <th>summary</th>\n",
       "      <th>unixReviewTime</th>\n",
       "      <th>label</th>\n",
       "    </tr>\n",
       "  </thead>\n",
       "  <tbody>\n",
       "    <tr>\n",
       "      <th>0</th>\n",
       "      <td>1</td>\n",
       "      <td>5.0</td>\n",
       "      <td>True</td>\n",
       "      <td>10 17, 2015</td>\n",
       "      <td>A1HP7NVNPFMA4N</td>\n",
       "      <td>700026657</td>\n",
       "      <td>Ambrosia075</td>\n",
       "      <td>This game is a bit hard to get the hang of, bu...</td>\n",
       "      <td>but when you do it's great.</td>\n",
       "      <td>1.445040e+09</td>\n",
       "      <td>0.0</td>\n",
       "    </tr>\n",
       "    <tr>\n",
       "      <th>1</th>\n",
       "      <td>2</td>\n",
       "      <td>5.0</td>\n",
       "      <td>False</td>\n",
       "      <td>03 30, 2005</td>\n",
       "      <td>A1REUF3A1YCPHM</td>\n",
       "      <td>1713353</td>\n",
       "      <td>TW Ervin II</td>\n",
       "      <td>The King, the Mice and the Cheese by Nancy Gur...</td>\n",
       "      <td>A story children will love and learn from</td>\n",
       "      <td>1.112141e+09</td>\n",
       "      <td>0.0</td>\n",
       "    </tr>\n",
       "    <tr>\n",
       "      <th>2</th>\n",
       "      <td>8</td>\n",
       "      <td>5.0</td>\n",
       "      <td>True</td>\n",
       "      <td>01 22, 2014</td>\n",
       "      <td>A3MCTN65BU7XRA</td>\n",
       "      <td>681795107</td>\n",
       "      <td>luckyg</td>\n",
       "      <td>So much better than plastic mug types--keeps c...</td>\n",
       "      <td>Recommend</td>\n",
       "      <td>1.390349e+09</td>\n",
       "      <td>0.0</td>\n",
       "    </tr>\n",
       "    <tr>\n",
       "      <th>3</th>\n",
       "      <td>12</td>\n",
       "      <td>5.0</td>\n",
       "      <td>True</td>\n",
       "      <td>12 25, 2014</td>\n",
       "      <td>A2RF5B5H74JLPE</td>\n",
       "      <td>700026657</td>\n",
       "      <td>jon</td>\n",
       "      <td>great game, I love it and have played it since...</td>\n",
       "      <td>love this game</td>\n",
       "      <td>1.419466e+09</td>\n",
       "      <td>0.0</td>\n",
       "    </tr>\n",
       "    <tr>\n",
       "      <th>4</th>\n",
       "      <td>15</td>\n",
       "      <td>4.0</td>\n",
       "      <td>True</td>\n",
       "      <td>11 13, 2014</td>\n",
       "      <td>A11V6ZJ2FVQY1D</td>\n",
       "      <td>700026657</td>\n",
       "      <td>IBRAHIM ALBADI</td>\n",
       "      <td>i liked a lot some time that i haven't play a ...</td>\n",
       "      <td>Anno 2070</td>\n",
       "      <td>1.415837e+09</td>\n",
       "      <td>0.0</td>\n",
       "    </tr>\n",
       "  </tbody>\n",
       "</table>\n",
       "</div>"
      ],
      "text/plain": [
       "  reviewID  overall verified   reviewTime      reviewerID       asin  \\\n",
       "0        1      5.0     True  10 17, 2015  A1HP7NVNPFMA4N  700026657   \n",
       "1        2      5.0    False  03 30, 2005  A1REUF3A1YCPHM    1713353   \n",
       "2        8      5.0     True  01 22, 2014  A3MCTN65BU7XRA  681795107   \n",
       "3       12      5.0     True  12 25, 2014  A2RF5B5H74JLPE  700026657   \n",
       "4       15      4.0     True  11 13, 2014  A11V6ZJ2FVQY1D  700026657   \n",
       "\n",
       "     reviewerName                                         reviewText  \\\n",
       "0     Ambrosia075  This game is a bit hard to get the hang of, bu...   \n",
       "1     TW Ervin II  The King, the Mice and the Cheese by Nancy Gur...   \n",
       "2          luckyg  So much better than plastic mug types--keeps c...   \n",
       "3             jon  great game, I love it and have played it since...   \n",
       "4  IBRAHIM ALBADI  i liked a lot some time that i haven't play a ...   \n",
       "\n",
       "                                     summary  unixReviewTime  label  \n",
       "0                but when you do it's great.    1.445040e+09    0.0  \n",
       "1  A story children will love and learn from    1.112141e+09    0.0  \n",
       "2                                  Recommend    1.390349e+09    0.0  \n",
       "3                             love this game    1.419466e+09    0.0  \n",
       "4                                  Anno 2070    1.415837e+09    0.0  "
      ]
     },
     "execution_count": 2,
     "metadata": {},
     "output_type": "execute_result"
    }
   ],
   "source": [
    "df = pd.read_csv(\"Amazon Reviews - Sheet1.csv\")\n",
    "df.head()"
   ]
  },
  {
   "cell_type": "code",
   "execution_count": 3,
   "id": "648037d8",
   "metadata": {},
   "outputs": [],
   "source": [
    "# Drop duplicates on reviewerID and asin\n",
    "df = df.drop_duplicates(subset=[\"reviewerID\", \"asin\"])\n",
    "\n",
    "# Convert reviewTime to datetime\n",
    "df[\"reviewTime\"] = pd.to_datetime(df[\"reviewTime\"], errors=\"coerce\")\n",
    "\n",
    "# Convert verified to int (1 if True, 0 if False)\n",
    "df[\"verified\"] = df[\"verified\"].fillna(False).astype(int)\n",
    "\n",
    "# Combine reviewText and summary\n",
    "df[\"text\"] = df[\"reviewText\"].fillna('') + \" \" + df[\"summary\"].fillna('')\n",
    "\n",
    "# Length of review and summary\n",
    "df[\"len_review\"] = df[\"reviewText\"].fillna('').apply(len)\n",
    "df[\"len_summary\"] = df[\"summary\"].fillna('').apply(len)\n",
    "df[\"len_text\"] = df[\"text\"].apply(len)\n",
    "\n",
    "# Days since review\n",
    "df[\"days\"] = (pd.Timestamp.today() - df[\"reviewTime\"]).dt.days\n",
    "\n",
    "# Drop rows with missing labels or text\n",
    "df = df.dropna(subset=[\"label\", \"text\", \"days\"])\n",
    "\n",
    "# Convert label to int\n",
    "df[\"label\"] = df[\"label\"].astype(int)"
   ]
  },
  {
   "cell_type": "markdown",
   "id": "ccb9ba1f",
   "metadata": {},
   "source": [
    "## Step 3: NLP Preprocessing\n",
    "\n",
    "Using NLTK, we apply text normalization:\n",
    "- Lowercasing and removing punctuation\n",
    "- Tokenization\n",
    "- Stopword removal\n",
    "- Lemmatization\n",
    "\n",
    "This transforms the raw review text into a clean input for TF-IDF vectorization.\n"
   ]
  },
  {
   "cell_type": "code",
   "execution_count": 4,
   "id": "b6c886ad",
   "metadata": {},
   "outputs": [
    {
     "name": "stdout",
     "output_type": "stream",
     "text": [
      "Original: This game is a bit hard to get the hang of, but when you do it's great. but when you do it's great.\n",
      "Cleaned : game bit hard get hang great great\n",
      "---\n",
      "Original: The King, the Mice and the Cheese by Nancy Gurney is an excellent children's book. It is one that I well remember from my own childhood and purchased for my daughter who loves it. It is about a king who has trouble with rude mice eating his cheese. He consults his wise men and they suggest cats to chase away the mice. The cats become a nuisance, so the wise men recommend the king bring in dogs to chase the cats away. The cycle goes on until the mice are finally brought back to chase away the elephants, brought in to chase away the lions that'd chased away the dogs. The story ends in compromise and friendship between the mice and the king. The story also teaches cause and effect relationships. The pictures that accompany the story are humorous and memorable. I was thrilled to discover that it is back in print. I *highly* recommend it for children ages 2 to 7. A story children will love and learn from\n",
      "Cleaned : king mouse cheese nancy gurney excellent childrens book one well remember childhood purchased daughter love king trouble rude mouse eating cheese consults wise men suggest cat chase away mouse cat become nuisance wise men recommend king bring dog chase cat away cycle go mouse finally brought back chase away elephant brought chase away lion thatd chased away dog story end compromise friendship mouse king story also teach cause effect relationship picture accompany story humorous memorable thrilled discover back print highly recommend child age story child love learn\n",
      "---\n",
      "Original: So much better than plastic mug types--keeps coffee warm and doesn't stain. We bought it because Cook's Country rated it tops. Recommend\n",
      "Cleaned : much better plastic mug typeskeeps coffee warm doesnt stain bought cook country rated top recommend\n",
      "---\n"
     ]
    }
   ],
   "source": [
    "stop_words = set(stopwords.words(\"english\"))\n",
    "lemmatizer = WordNetLemmatizer()\n",
    "\n",
    "# Function to handle NLP\n",
    "def clean_text(text):\n",
    "    # Lowercase and remove non-letters\n",
    "    text = text.lower()\n",
    "    text = re.sub(r\"[^a-z\\s]\", \"\", text)\n",
    "    \n",
    "    # Tokenize\n",
    "    tokens = nltk.word_tokenize(text)\n",
    "    \n",
    "    # Remove stopwords and lemmatize\n",
    "    tokens = [lemmatizer.lemmatize(word) for word in tokens if word not in stop_words]\n",
    "    \n",
    "    return \" \".join(tokens)\n",
    "\n",
    "# Apply the function to the data\n",
    "df[\"clean_text\"] = df[\"text\"].fillna(\"\").apply(clean_text)\n",
    "\n",
    "# Showing difference between the original and the cleaned text\n",
    "for i in range(3):\n",
    "    print(\"Original:\", df[\"text\"].iloc[i])\n",
    "    print(\"Cleaned :\", df[\"clean_text\"].iloc[i])\n",
    "    print(\"---\")\n"
   ]
  },
  {
   "cell_type": "markdown",
   "id": "983ec131",
   "metadata": {},
   "source": [
    "## Step 4: Feature Engineering\n",
    "\n",
    "We define three types of features:\n",
    "- **Categorical**: Product ID, Reviewer ID, Rating\n",
    "- **Numeric**: Verified flag, days since review, review length\n",
    "- **Text**: Combined review and summary, cleaned and lemmatized\n"
   ]
  },
  {
   "cell_type": "code",
   "execution_count": 5,
   "id": "608c7473",
   "metadata": {},
   "outputs": [],
   "source": [
    "# Define categorical and numerical features\n",
    "cat_features = [\"asin\", \"reviewerID\", \"overall\"]\n",
    "num_features = [\"verified\", \"days\", \"len_review\", \"len_summary\", \"len_text\"]\n",
    "\n",
    "# Define text feature\n",
    "text_feature = \"clean_text\"\n",
    "label_col = \"label\"\n",
    "\n",
    "# Split data\n",
    "X = df[cat_features + num_features + [text_feature]]\n",
    "y = df[label_col]"
   ]
  },
  {
   "cell_type": "markdown",
   "id": "611e5125",
   "metadata": {},
   "source": [
    "## Step 5: Train/Test Split\n",
    "\n",
    "We split the dataset into 80% training and 20% testing while maintaining class balance using stratified sampling.\n"
   ]
  },
  {
   "cell_type": "code",
   "execution_count": 6,
   "id": "cb96b636",
   "metadata": {},
   "outputs": [],
   "source": [
    "X_train, X_test, y_train, y_test = train_test_split(\n",
    "    X, y, test_size=0.2, stratify=y, random_state=42\n",
    ")"
   ]
  },
  {
   "cell_type": "markdown",
   "id": "6228ee9d",
   "metadata": {},
   "source": [
    "## Step 6: Build the ML Pipeline\n",
    "\n",
    "We use a `ColumnTransformer` to combine:\n",
    "- One-hot encoding for categorical features\n",
    "- Pass-through for numeric features\n",
    "    - TF-IDF vectorization with n-grams for text\n",
    "\n",
    "Then we wrap the preprocessing and classifier into a single pipeline using `Pipeline`.\n"
   ]
  },
  {
   "cell_type": "code",
   "execution_count": 7,
   "id": "da512014",
   "metadata": {},
   "outputs": [],
   "source": [
    "# Preprocessing for categorical and numeric features\n",
    "preprocessor = ColumnTransformer(\n",
    "    transformers=[\n",
    "        (\"cat\", OneHotEncoder(handle_unknown=\"ignore\"), cat_features),\n",
    "        (\"num\", \"passthrough\", num_features),\n",
    "        (\"tfidf\", make_pipeline(TfidfVectorizer(max_features=5000, min_df=2, ngram_range=(1, 2))), \"clean_text\")\n",
    "    ],\n",
    "    remainder=\"drop\"\n",
    ")\n",
    "\n",
    "# Final pipeline\n",
    "model_pipeline = Pipeline(steps=[\n",
    "    (\"preprocessor\", preprocessor),\n",
    "    (\"clf\", LogisticRegression(max_iter=500))\n",
    "])"
   ]
  },
  {
   "cell_type": "markdown",
   "id": "9723d184",
   "metadata": {},
   "source": [
    "## Step 7: Train the Logistic Regression Model\n",
    "\n",
    "We train the logistic regression model on the training data using the pipeline we defined.\n"
   ]
  },
  {
   "cell_type": "markdown",
   "id": "122812e9",
   "metadata": {},
   "source": [
    "### MLflow Experiment Tracking\n",
    "\n",
    "We use MLflow to log our model training process, including:\n",
    "\n",
    "- **Model parameters** (e.g., `max_iter`)\n",
    "- **Performance metrics** (accuracy, precision, recall, F1 score)\n",
    "- **The entire scikit-learn pipeline** as a reusable, versioned model artifact\n",
    "\n",
    "This is especially useful for comparing different experiments and tracking improvements over time.\n",
    "\n",
    "Below, we wrap the model training and evaluation inside an `mlflow.start_run()` context, and use `mlflow.log_param`, `mlflow.log_metric`, and `mlflow.sklearn.log_model` to log useful metadata.\n"
   ]
  },
  {
   "cell_type": "code",
   "execution_count": 8,
   "id": "e357df88",
   "metadata": {},
   "outputs": [
    {
     "name": "stderr",
     "output_type": "stream",
     "text": [
      "2025/07/18 02:59:47 WARNING mlflow.utils.git_utils: Failed to import Git (the Git executable is probably not on your PATH), so Git SHA is not available. Error: Failed to initialize: Bad git executable.\n",
      "The git executable must be specified in one of the following ways:\n",
      "    - be included in your $PATH\n",
      "    - be set via $GIT_PYTHON_GIT_EXECUTABLE\n",
      "    - explicitly set via git.refresh(<full-path-to-git-executable>)\n",
      "\n",
      "All git commands will error until this is rectified.\n",
      "\n",
      "This initial message can be silenced or aggravated in the future by setting the\n",
      "$GIT_PYTHON_REFRESH environment variable. Use one of the following values:\n",
      "    - quiet|q|silence|s|silent|none|n|0: for no message or exception\n",
      "    - warn|w|warning|log|l|1: for a warning message (logging level CRITICAL, displayed by default)\n",
      "    - error|e|exception|raise|r|2: for a raised exception\n",
      "\n",
      "Example:\n",
      "    export GIT_PYTHON_REFRESH=quiet\n",
      "\n",
      "2025/07/18 02:59:48 WARNING mlflow.models.model: `artifact_path` is deprecated. Please use `name` instead.\n",
      "2025/07/18 02:59:54 WARNING mlflow.models.model: Model logged without a signature and input example. Please set `input_example` parameter when logging the model to auto infer the model signature.\n"
     ]
    },
    {
     "name": "stdout",
     "output_type": "stream",
     "text": [
      "Logged model and metrics to MLflow.\n"
     ]
    }
   ],
   "source": [
    "# Start an MLflow run\n",
    "with mlflow.start_run():\n",
    "    # Log parameters\n",
    "    mlflow.log_param(\"model_type\", \"Logistic Regression\")\n",
    "    mlflow.log_param(\"max_iter\", 500)\n",
    "    \n",
    "    # Fit the model\n",
    "    model_pipeline.fit(X_train, y_train)\n",
    "\n",
    "    # Predict on test set\n",
    "    y_pred = model_pipeline.predict(X_test)\n",
    "    y_proba = model_pipeline.predict_proba(X_test)[:, 1]\n",
    "\n",
    "    # Log evaluation metrics\n",
    "    mlflow.log_metric(\"accuracy\", accuracy_score(y_test, y_pred))\n",
    "    mlflow.log_metric(\"precision\", precision_score(y_test, y_pred, average=\"weighted\"))\n",
    "    mlflow.log_metric(\"recall\", recall_score(y_test, y_pred, average=\"weighted\"))\n",
    "    mlflow.log_metric(\"f1_score\", f1_score(y_test, y_pred, average=\"weighted\"))\n",
    "\n",
    "    # Log the entire sklearn pipeline as a model\n",
    "    mlflow.sklearn.log_model(model_pipeline, \"model\")\n",
    "\n",
    "    print(\"Logged model and metrics to MLflow.\")"
   ]
  },
  {
   "cell_type": "markdown",
   "id": "0b33a922",
   "metadata": {},
   "source": [
    "## Step 8: Evaluate the Model\n",
    "\n",
    "We evaluate performance using:\n",
    "- Classification report (precision, recall, F1)\n",
    "- ROC AUC score\n",
    "- Confusion matrix\n"
   ]
  },
  {
   "cell_type": "code",
   "execution_count": 9,
   "id": "050857b2",
   "metadata": {},
   "outputs": [
    {
     "name": "stdout",
     "output_type": "stream",
     "text": [
      "Classification Report:\n",
      "\n",
      "              precision    recall  f1-score   support\n",
      "\n",
      "           0       0.88      0.95      0.91       165\n",
      "           1       0.60      0.35      0.44        34\n",
      "\n",
      "    accuracy                           0.85       199\n",
      "   macro avg       0.74      0.65      0.68       199\n",
      "weighted avg       0.83      0.85      0.83       199\n",
      "\n",
      "ROC AUC Score: 0.7666666666666666\n"
     ]
    },
    {
     "data": {
      "image/png": "[encoded data removed]",
      "text/plain": [
       "<Figure size 640x480 with 2 Axes>"
      ]
     },
     "metadata": {},
     "output_type": "display_data"
    }
   ],
   "source": [
    "print(\"Classification Report:\\n\")\n",
    "print(classification_report(y_test, y_pred))\n",
    "\n",
    "print(\"ROC AUC Score:\", roc_auc_score(y_test, y_proba))\n",
    "\n",
    "# Confusion Matrix\n",
    "sns.heatmap(confusion_matrix(y_test, y_pred), annot=True, fmt=\"d\", cmap=\"Blues\")\n",
    "plt.xlabel(\"Predicted\")\n",
    "plt.ylabel(\"Actual\")\n",
    "plt.title(\"Confusion Matrix\")\n",
    "plt.show()"
   ]
  },
  {
   "cell_type": "markdown",
   "id": "7bb7874f",
   "metadata": {},
   "source": [
    "## Step 9: Model Explainability\n",
    "\n",
    "We analyze feature importance by:\n",
    "- Separating coefficients by feature type: categorical, numeric, and text\n",
    "- Calculating absolute coefficient magnitudes\n",
    "- Showing:\n",
    "  - Pie chart: model weight distribution by feature type\n",
    "  - Bar chart: numeric feature importances\n",
    "  - Tables: top positive and negative TF-IDF features\n",
    "  - Avg coefficients by type\n"
   ]
  },
  {
   "cell_type": "code",
   "execution_count": 10,
   "id": "5d8b3e16",
   "metadata": {},
   "outputs": [],
   "source": [
    "# Extract the trained classifier\n",
    "clf = model_pipeline.named_steps[\"clf\"]\n",
    "\n",
    "# Get feature names from each transformer\n",
    "feature_names_cat = model_pipeline.named_steps[\"preprocessor\"].named_transformers_[\"cat\"].get_feature_names_out(cat_features)\n",
    "feature_names_num = num_features\n",
    "feature_names_text = model_pipeline.named_steps[\"preprocessor\"].named_transformers_[\"tfidf\"].get_feature_names_out()\n",
    "\n",
    "# Slice coefficients into groups\n",
    "coefs = clf.coef_[0]\n",
    "i_cat = len(feature_names_cat)\n",
    "i_num = len(feature_names_num)\n",
    "i_text = len(feature_names_text)\n",
    "\n",
    "coefs_cat = coefs[:i_cat]\n",
    "coefs_num = coefs[i_cat:i_cat + i_num]\n",
    "coefs_text = coefs[-i_text:]\n",
    "\n",
    "\n",
    "# Create separate DataFrames\n",
    "df_cat = pd.DataFrame({\n",
    "    \"Feature\": feature_names_cat,\n",
    "    \"Coefficient\": coefs_cat,\n",
    "    \"Type\": \"Categorical\"\n",
    "})\n",
    "\n",
    "df_num = pd.DataFrame({\n",
    "    \"Feature\": feature_names_num,\n",
    "    \"Coefficient\": coefs_num,\n",
    "    \"Type\": \"Numeric\"\n",
    "})\n",
    "\n",
    "df_text = pd.DataFrame({\n",
    "    \"Feature\": feature_names_text,\n",
    "    \"Coefficient\": coefs_text,\n",
    "    \"Type\": \"Text\"\n",
    "})\n",
    "\n",
    "# Combine all into one\n",
    "coef_df = pd.concat([df_cat, df_num, df_text], ignore_index=True)\n",
    "coef_df[\"abs\"] = coef_df[\"Coefficient\"].abs()"
   ]
  },
  {
   "cell_type": "code",
   "execution_count": 11,
   "id": "fc453041",
   "metadata": {},
   "outputs": [
    {
     "data": {
      "image/png": "[encoded data removed]",
      "text/plain": [
       "<Figure size 640x480 with 1 Axes>"
      ]
     },
     "metadata": {},
     "output_type": "display_data"
    }
   ],
   "source": [
    "# === Pie Chart: Share of Model Attention ===\n",
    "weight_by_type = coef_df.groupby(\"Type\")[\"abs\"].sum()\n",
    "weight_by_type /= weight_by_type.sum()\n",
    "\n",
    "weight_by_type.plot.pie(autopct=\"%.1f%%\", ylabel=\"\")\n",
    "plt.title(\"Share of Model Weight by Feature Type\")\n",
    "plt.show()"
   ]
  },
  {
   "cell_type": "code",
   "execution_count": 12,
   "id": "50644a3f",
   "metadata": {},
   "outputs": [
    {
     "data": {
      "image/png": "[encoded data removed]",
      "text/plain": [
       "<Figure size 640x480 with 1 Axes>"
      ]
     },
     "metadata": {},
     "output_type": "display_data"
    }
   ],
   "source": [
    "# === Numeric Feature Importance ===\n",
    "sns.barplot(data=df_num, x=\"Coefficient\", y=\"Feature\", palette=\"Blues_r\")\n",
    "plt.title(\"Numeric Feature Importance\")\n",
    "plt.tight_layout()\n",
    "plt.show()"
   ]
  },
  {
   "cell_type": "code",
   "execution_count": 13,
   "id": "e7c38ec8",
   "metadata": {},
   "outputs": [
    {
     "name": "stdout",
     "output_type": "stream",
     "text": [
      "Top Positive TF-IDF Features:\n"
     ]
    },
    {
     "data": {
      "text/html": [
       "<div>\n",
       "<style scoped>\n",
       "    .dataframe tbody tr th:only-of-type {\n",
       "        vertical-align: middle;\n",
       "    }\n",
       "\n",
       "    .dataframe tbody tr th {\n",
       "        vertical-align: top;\n",
       "    }\n",
       "\n",
       "    .dataframe thead th {\n",
       "        text-align: right;\n",
       "    }\n",
       "</style>\n",
       "<table border=\"1\" class=\"dataframe\">\n",
       "  <thead>\n",
       "    <tr style=\"text-align: right;\">\n",
       "      <th></th>\n",
       "      <th>Feature</th>\n",
       "      <th>Coefficient</th>\n",
       "      <th>Type</th>\n",
       "    </tr>\n",
       "  </thead>\n",
       "  <tbody>\n",
       "    <tr>\n",
       "      <th>3185</th>\n",
       "      <td>set</td>\n",
       "      <td>0.702328</td>\n",
       "      <td>Text</td>\n",
       "    </tr>\n",
       "    <tr>\n",
       "      <th>2374</th>\n",
       "      <td>mom</td>\n",
       "      <td>0.648096</td>\n",
       "      <td>Text</td>\n",
       "    </tr>\n",
       "    <tr>\n",
       "      <th>304</th>\n",
       "      <td>bit</td>\n",
       "      <td>0.596232</td>\n",
       "      <td>Text</td>\n",
       "    </tr>\n",
       "    <tr>\n",
       "      <th>2615</th>\n",
       "      <td>orange</td>\n",
       "      <td>0.593017</td>\n",
       "      <td>Text</td>\n",
       "    </tr>\n",
       "    <tr>\n",
       "      <th>2466</th>\n",
       "      <td>never</td>\n",
       "      <td>0.588737</td>\n",
       "      <td>Text</td>\n",
       "    </tr>\n",
       "    <tr>\n",
       "      <th>796</th>\n",
       "      <td>degree</td>\n",
       "      <td>0.580891</td>\n",
       "      <td>Text</td>\n",
       "    </tr>\n",
       "    <tr>\n",
       "      <th>332</th>\n",
       "      <td>book</td>\n",
       "      <td>0.548219</td>\n",
       "      <td>Text</td>\n",
       "    </tr>\n",
       "    <tr>\n",
       "      <th>3522</th>\n",
       "      <td>take</td>\n",
       "      <td>0.541687</td>\n",
       "      <td>Text</td>\n",
       "    </tr>\n",
       "    <tr>\n",
       "      <th>1667</th>\n",
       "      <td>guide</td>\n",
       "      <td>0.520534</td>\n",
       "      <td>Text</td>\n",
       "    </tr>\n",
       "    <tr>\n",
       "      <th>3214</th>\n",
       "      <td>ship</td>\n",
       "      <td>0.507306</td>\n",
       "      <td>Text</td>\n",
       "    </tr>\n",
       "  </tbody>\n",
       "</table>\n",
       "</div>"
      ],
      "text/plain": [
       "     Feature  Coefficient  Type\n",
       "3185     set     0.702328  Text\n",
       "2374     mom     0.648096  Text\n",
       "304      bit     0.596232  Text\n",
       "2615  orange     0.593017  Text\n",
       "2466   never     0.588737  Text\n",
       "796   degree     0.580891  Text\n",
       "332     book     0.548219  Text\n",
       "3522    take     0.541687  Text\n",
       "1667   guide     0.520534  Text\n",
       "3214    ship     0.507306  Text"
      ]
     },
     "metadata": {},
     "output_type": "display_data"
    },
    {
     "name": "stdout",
     "output_type": "stream",
     "text": [
      "Top Negative TF-IDF Features:\n"
     ]
    },
    {
     "data": {
      "text/html": [
       "<div>\n",
       "<style scoped>\n",
       "    .dataframe tbody tr th:only-of-type {\n",
       "        vertical-align: middle;\n",
       "    }\n",
       "\n",
       "    .dataframe tbody tr th {\n",
       "        vertical-align: top;\n",
       "    }\n",
       "\n",
       "    .dataframe thead th {\n",
       "        text-align: right;\n",
       "    }\n",
       "</style>\n",
       "<table border=\"1\" class=\"dataframe\">\n",
       "  <thead>\n",
       "    <tr style=\"text-align: right;\">\n",
       "      <th></th>\n",
       "      <th>Feature</th>\n",
       "      <th>Coefficient</th>\n",
       "      <th>Type</th>\n",
       "    </tr>\n",
       "  </thead>\n",
       "  <tbody>\n",
       "    <tr>\n",
       "      <th>381</th>\n",
       "      <td>boring</td>\n",
       "      <td>-0.352463</td>\n",
       "      <td>Text</td>\n",
       "    </tr>\n",
       "    <tr>\n",
       "      <th>1493</th>\n",
       "      <td>gift</td>\n",
       "      <td>-0.379520</td>\n",
       "      <td>Text</td>\n",
       "    </tr>\n",
       "    <tr>\n",
       "      <th>584</th>\n",
       "      <td>classic</td>\n",
       "      <td>-0.400153</td>\n",
       "      <td>Text</td>\n",
       "    </tr>\n",
       "    <tr>\n",
       "      <th>1541</th>\n",
       "      <td>good</td>\n",
       "      <td>-0.468164</td>\n",
       "      <td>Text</td>\n",
       "    </tr>\n",
       "    <tr>\n",
       "      <th>1213</th>\n",
       "      <td>five star</td>\n",
       "      <td>-0.517103</td>\n",
       "      <td>Text</td>\n",
       "    </tr>\n",
       "    <tr>\n",
       "      <th>1212</th>\n",
       "      <td>five</td>\n",
       "      <td>-0.554052</td>\n",
       "      <td>Text</td>\n",
       "    </tr>\n",
       "    <tr>\n",
       "      <th>1285</th>\n",
       "      <td>fun</td>\n",
       "      <td>-0.682098</td>\n",
       "      <td>Text</td>\n",
       "    </tr>\n",
       "    <tr>\n",
       "      <th>1600</th>\n",
       "      <td>great</td>\n",
       "      <td>-0.691614</td>\n",
       "      <td>Text</td>\n",
       "    </tr>\n",
       "    <tr>\n",
       "      <th>3380</th>\n",
       "      <td>star</td>\n",
       "      <td>-0.756563</td>\n",
       "      <td>Text</td>\n",
       "    </tr>\n",
       "    <tr>\n",
       "      <th>1308</th>\n",
       "      <td>game</td>\n",
       "      <td>-0.831675</td>\n",
       "      <td>Text</td>\n",
       "    </tr>\n",
       "  </tbody>\n",
       "</table>\n",
       "</div>"
      ],
      "text/plain": [
       "        Feature  Coefficient  Type\n",
       "381      boring    -0.352463  Text\n",
       "1493       gift    -0.379520  Text\n",
       "584     classic    -0.400153  Text\n",
       "1541       good    -0.468164  Text\n",
       "1213  five star    -0.517103  Text\n",
       "1212       five    -0.554052  Text\n",
       "1285        fun    -0.682098  Text\n",
       "1600      great    -0.691614  Text\n",
       "3380       star    -0.756563  Text\n",
       "1308       game    -0.831675  Text"
      ]
     },
     "metadata": {},
     "output_type": "display_data"
    }
   ],
   "source": [
    "# === Top Positive/Negative Text Features ===\n",
    "top_text_features = df_text.sort_values(by=\"Coefficient\", ascending=False)\n",
    "\n",
    "print(\"Top Positive TF-IDF Features:\")\n",
    "display(top_text_features.head(10))\n",
    "\n",
    "print(\"Top Negative TF-IDF Features:\")\n",
    "display(top_text_features.tail(10))"
   ]
  },
  {
   "cell_type": "code",
   "execution_count": 14,
   "id": "e2228061",
   "metadata": {},
   "outputs": [
    {
     "data": {
      "image/png": "[encoded data removed]",
      "text/plain": [
       "<Figure size 640x480 with 1 Axes>"
      ]
     },
     "metadata": {},
     "output_type": "display_data"
    }
   ],
   "source": [
    "# === Average Abs Coeff by Feature Type ===\n",
    "avg_abs = coef_df.groupby(\"Type\")[\"abs\"].mean().sort_values()\n",
    "avg_abs.plot.barh(color=\"steelblue\")\n",
    "plt.title(\"Avg Coefficient by Feature Type\")\n",
    "plt.xlabel(\"Mean Absolute Coefficient\")\n",
    "plt.tight_layout()\n",
    "plt.show()"
   ]
  },
  {
   "cell_type": "markdown",
   "id": "6b8358c2",
   "metadata": {},
   "source": [
    "## Step 10: Model Comparison — Logistic Regression vs Random Forest\n",
    "\n",
    "To compare performance, we also train a Random Forest classifier using the same feature pipeline.\n"
   ]
  },
  {
   "cell_type": "code",
   "execution_count": 15,
   "id": "7d07a3cc",
   "metadata": {},
   "outputs": [
    {
     "name": "stdout",
     "output_type": "stream",
     "text": [
      "Random Forest Classification Report:\n",
      "\n",
      "              precision    recall  f1-score   support\n",
      "\n",
      "           0       0.85      0.99      0.91       165\n",
      "           1       0.80      0.12      0.21        34\n",
      "\n",
      "    accuracy                           0.84       199\n",
      "   macro avg       0.82      0.56      0.56       199\n",
      "weighted avg       0.84      0.84      0.79       199\n",
      "\n",
      "ROC AUC Score (Random Forest): 0.7988413547237077\n",
      "Logistic Regression Accuracy: 0.8492462311557789\n",
      "Random Forest Accuracy: 0.8442211055276382\n"
     ]
    }
   ],
   "source": [
    "# === Step 11: Model Comparison with Random Forest ===\n",
    "\n",
    "# Define a new pipeline using RandomForest\n",
    "rf_pipeline = Pipeline(steps=[\n",
    "    (\"preprocessor\", preprocessor),\n",
    "    (\"clf\", RandomForestClassifier(n_estimators=100, random_state=42))\n",
    "])\n",
    "\n",
    "# Train Random Forest\n",
    "rf_pipeline.fit(X_train, y_train)\n",
    "\n",
    "# Predict\n",
    "y_pred_rf = rf_pipeline.predict(X_test)\n",
    "y_proba_rf = rf_pipeline.predict_proba(X_test)[:, 1]\n",
    "\n",
    "# Evaluation\n",
    "print(\"Random Forest Classification Report:\\n\")\n",
    "print(classification_report(y_test, y_pred_rf))\n",
    "\n",
    "print(\"ROC AUC Score (Random Forest):\", roc_auc_score(y_test, y_proba_rf))\n",
    "\n",
    "# Compare accuracy\n",
    "print(\"Logistic Regression Accuracy:\", accuracy_score(y_test, y_pred))\n",
    "print(\"Random Forest Accuracy:\", accuracy_score(y_test, y_pred_rf))"
   ]
  },
  {
   "cell_type": "markdown",
   "id": "c442635b",
   "metadata": {},
   "source": [
    "###  Model Comparison: Logistic Regression vs Random Forest\n",
    "\n",
    "While Logistic Regression was used as the primary model due to its interpretability, we also evaluated a Random Forest classifier to compare predictive performance.\n",
    "\n",
    "**Why Random Forest?**\n",
    "- It’s a robust, non-linear model that can capture more complex feature interactions.\n",
    "- It provides an alternate way to evaluate our feature pipeline’s generalizability.\n",
    "\n",
    "**Results Summary:**\n",
    "- Random Forest outperforms Logistic Regression in terms of raw accuracy or AUC for our dataset.\n",
    "- However, it lacks the direct interpretability of Logistic Regression (i.e., no meaningful coefficients for text terms).\n",
    "\n",
    "For this reason, we retain Logistic Regression as the main model in this notebook, but this comparison demonstrates how easily the pipeline can switch between models."
   ]
  },
  {
   "cell_type": "markdown",
   "id": "81fad657",
   "metadata": {},
   "source": [
    "## Step 11: Save the Model\n",
    "\n",
    "We save the trained model so that it can be wrapped into an API if needed"
   ]
  },
  {
   "cell_type": "code",
   "execution_count": 16,
   "id": "4fa1f793",
   "metadata": {},
   "outputs": [
    {
     "data": {
      "text/plain": [
       "['../app/model_pipeline.pkl']"
      ]
     },
     "execution_count": 16,
     "metadata": {},
     "output_type": "execute_result"
    }
   ],
   "source": [
    "# Save the trained pipeline\n",
    "joblib.dump(model_pipeline, \"../app/model_pipeline.pkl\")"
   ]
  },
  {
   "cell_type": "markdown",
   "id": "2bbc2d42",
   "metadata": {},
   "source": [
    "### Conclusion\n",
    "\n",
    "In this notebook, we built an end-to-end machine learning pipeline to classify Amazon product reviews based on their usefulness. The workflow included:\n",
    "\n",
    "- Preprocessing text, numeric, and categorical features\n",
    "- Feature engineering (review length, TF-IDF n-grams)\n",
    "- Building a pipeline using `ColumnTransformer` and `Pipeline`\n",
    "- Training and evaluating a Logistic Regression classifier\n",
    "- Interpreting the model via grouped feature importance\n",
    "- Comparing performance with a non-linear model (Random Forest)\n",
    "\n",
    "The pipeline was designed to be modular, interpretable, and ready for CI/CD integration.\n"
   ]
  },
  {
   "cell_type": "markdown",
   "id": "e19358c7",
   "metadata": {},
   "source": [
    "### Possible Next Steps\n",
    "\n",
    "To further enhance this notebook or integrate it into a real-world project, here are some next steps:\n",
    "\n",
    "- Try other models like XGBoost or LightGBM\n",
    "- Use sentence embeddings instead of TF-IDF (note: less interpretable)\n",
    "- Build a FastAPI or Flask app around this pipeline\n",
    "- Set up automated testing and CI/CD deployment using GitHub Actions or Azure Pipelines\n",
    "- Apply SHAP or LIME for model-agnostic interpretability\n"
   ]
  }
 ],
 "metadata": {
  "kernelspec": {
   "display_name": "spacy_env",
   "language": "python",
   "name": "python3"
  },
  "language_info": {
   "codemirror_mode": {
    "name": "ipython",
    "version": 3
   },
   "file_extension": ".py",
   "mimetype": "text/x-python",
   "name": "python",
   "nbconvert_exporter": "python",
   "pygments_lexer": "ipython3",
   "version": "3.9.23"
  }
 },
 "nbformat": 4,
 "nbformat_minor": 5
}
